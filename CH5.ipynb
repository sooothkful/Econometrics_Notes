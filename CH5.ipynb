{
 "cells": [
  {
   "cell_type": "code",
   "execution_count": 1,
   "id": "furnished-consideration",
   "metadata": {},
   "outputs": [],
   "source": [
    "#CHAPTER 5\n",
    "\n",
    "import pandas as pd\n",
    "import numpy as np\n",
    "%matplotlib notebook\n",
    "import matplotlib.pyplot as plt\n",
    "import seaborn as sns\n",
    "import scipy.stats as stats\n",
    "import statsmodels.formula.api as smf"
   ]
  },
  {
   "cell_type": "code",
   "execution_count": 3,
   "id": "billion-miniature",
   "metadata": {},
   "outputs": [],
   "source": [
    "gpa1 = pd.read_csv(\"gpa1.csv\")"
   ]
  },
  {
   "cell_type": "code",
   "execution_count": 4,
   "id": "sublime-functionality",
   "metadata": {},
   "outputs": [],
   "source": [
    "#SIMULATION \n"
   ]
  },
  {
   "cell_type": "code",
   "execution_count": 6,
   "id": "opposite-context",
   "metadata": {},
   "outputs": [],
   "source": [
    "#SET RANDOM SEED:\n",
    "np.random.seed(1234567)"
   ]
  },
  {
   "cell_type": "code",
   "execution_count": 7,
   "id": "thick-indication",
   "metadata": {},
   "outputs": [],
   "source": [
    "#SET SAMPLE SIZE AND NUMBER OF SIMULATIONS\n",
    "n= 100\n",
    "r=10000"
   ]
  },
  {
   "cell_type": "code",
   "execution_count": 9,
   "id": "african-persian",
   "metadata": {},
   "outputs": [],
   "source": [
    "#SET TRUE PARAMETERS\n",
    "beta0 = 1\n",
    "beta1 = 0.5\n",
    "sx = 1\n",
    "ex = 4\n"
   ]
  },
  {
   "cell_type": "code",
   "execution_count": 10,
   "id": "working-mixer",
   "metadata": {},
   "outputs": [],
   "source": [
    "#INITIALIZE b1 to store results later:\n",
    "b1 = np.empty(r)"
   ]
  },
  {
   "cell_type": "code",
   "execution_count": 11,
   "id": "prescribed-director",
   "metadata": {},
   "outputs": [],
   "source": [
    "#draw a sample of x, fixed over replications:\n",
    "x = stats.norm.rvs(ex, sx, size = n)\n"
   ]
  },
  {
   "cell_type": "code",
   "execution_count": 12,
   "id": "regular-debate",
   "metadata": {},
   "outputs": [],
   "source": [
    "#REPEAT R TIMES\n",
    "for i in range(r):\n",
    "    \n",
    "    #DRAW A SAMPLE OF U(STD. NORMAL)\n",
    "    u = stats.norm.rvs(0,1,size=n)\n",
    "    y = beta0 + beta1*x + u\n",
    "    df = pd.DataFrame({'y': y, 'x': x})\n",
    "    \n",
    "    #ESTIMATE CONDITIONAL OLS:\n",
    "    reg = smf.ols(formula = 'y ~ x', data = df)\n",
    "    results = reg.fit()\n",
    "    b1[i] = results.params['x']"
   ]
  },
  {
   "cell_type": "code",
   "execution_count": null,
   "id": "visible-observer",
   "metadata": {},
   "outputs": [],
   "source": []
  },
  {
   "cell_type": "code",
   "execution_count": null,
   "id": "blind-climate",
   "metadata": {},
   "outputs": [],
   "source": []
  },
  {
   "cell_type": "code",
   "execution_count": null,
   "id": "necessary-abraham",
   "metadata": {},
   "outputs": [],
   "source": []
  }
 ],
 "metadata": {
  "kernelspec": {
   "display_name": "Python 3",
   "language": "python",
   "name": "python3"
  },
  "language_info": {
   "codemirror_mode": {
    "name": "ipython",
    "version": 3
   },
   "file_extension": ".py",
   "mimetype": "text/x-python",
   "name": "python",
   "nbconvert_exporter": "python",
   "pygments_lexer": "ipython3",
   "version": "3.7.4"
  }
 },
 "nbformat": 4,
 "nbformat_minor": 5
}
