{
 "cells": [
  {
   "cell_type": "code",
   "execution_count": 1,
   "id": "other-spiritual",
   "metadata": {},
   "outputs": [],
   "source": [
    "import pandas as pd\n",
    "import numpy as np\n",
    "%matplotlib notebook\n",
    "import matplotlib.pyplot as plt\n",
    "import seaborn as sns\n",
    "import scipy.stats as stats\n",
    "import statsmodels.formula.api as smf"
   ]
  },
  {
   "cell_type": "code",
   "execution_count": 6,
   "id": "quiet-semiconductor",
   "metadata": {},
   "outputs": [],
   "source": [
    "gpa1 = pd.read_csv(\"gpa1.csv\")"
   ]
  },
  {
   "cell_type": "code",
   "execution_count": 10,
   "id": "limiting-ranking",
   "metadata": {
    "scrolled": false
   },
   "outputs": [
    {
     "name": "stdout",
     "output_type": "stream",
     "text": [
      "<class 'pandas.core.frame.DataFrame'>\n",
      "RangeIndex: 141 entries, 0 to 140\n",
      "Data columns (total 29 columns):\n",
      " #   Column    Non-Null Count  Dtype  \n",
      "---  ------    --------------  -----  \n",
      " 0   age       141 non-null    int64  \n",
      " 1   soph      141 non-null    int64  \n",
      " 2   junior    141 non-null    int64  \n",
      " 3   senior    141 non-null    int64  \n",
      " 4   senior5   141 non-null    int64  \n",
      " 5   male      141 non-null    int64  \n",
      " 6   campus    141 non-null    int64  \n",
      " 7   business  141 non-null    int64  \n",
      " 8   engineer  141 non-null    int64  \n",
      " 9   colGPA    141 non-null    float64\n",
      " 10  hsGPA     141 non-null    float64\n",
      " 11  ACT       141 non-null    int64  \n",
      " 12  job19     141 non-null    int64  \n",
      " 13  job20     141 non-null    int64  \n",
      " 14  drive     141 non-null    int64  \n",
      " 15  bike      141 non-null    int64  \n",
      " 16  walk      141 non-null    int64  \n",
      " 17  voluntr   141 non-null    int64  \n",
      " 18  PC        141 non-null    int64  \n",
      " 19  greek     141 non-null    int64  \n",
      " 20  car       141 non-null    int64  \n",
      " 21  siblings  141 non-null    int64  \n",
      " 22  bgfriend  141 non-null    int64  \n",
      " 23  clubs     141 non-null    int64  \n",
      " 24  skipped   141 non-null    float64\n",
      " 25  alcohol   141 non-null    float64\n",
      " 26  gradMI    141 non-null    int64  \n",
      " 27  fathcoll  141 non-null    int64  \n",
      " 28  mothcoll  141 non-null    int64  \n",
      "dtypes: float64(4), int64(25)\n",
      "memory usage: 32.1 KB\n"
     ]
    }
   ],
   "source": [
    "gpa1.info()\n"
   ]
  },
  {
   "cell_type": "code",
   "execution_count": null,
   "id": "trained-equation",
   "metadata": {},
   "outputs": [],
   "source": []
  },
  {
   "cell_type": "code",
   "execution_count": 9,
   "id": "billion-crash",
   "metadata": {},
   "outputs": [
    {
     "data": {
      "text/html": [
       "<div>\n",
       "<style scoped>\n",
       "    .dataframe tbody tr th:only-of-type {\n",
       "        vertical-align: middle;\n",
       "    }\n",
       "\n",
       "    .dataframe tbody tr th {\n",
       "        vertical-align: top;\n",
       "    }\n",
       "\n",
       "    .dataframe thead th {\n",
       "        text-align: right;\n",
       "    }\n",
       "</style>\n",
       "<table border=\"1\" class=\"dataframe\">\n",
       "  <thead>\n",
       "    <tr style=\"text-align: right;\">\n",
       "      <th></th>\n",
       "      <th>age</th>\n",
       "      <th>soph</th>\n",
       "      <th>junior</th>\n",
       "      <th>senior</th>\n",
       "      <th>senior5</th>\n",
       "      <th>male</th>\n",
       "      <th>campus</th>\n",
       "      <th>business</th>\n",
       "      <th>engineer</th>\n",
       "      <th>colGPA</th>\n",
       "      <th>...</th>\n",
       "      <th>greek</th>\n",
       "      <th>car</th>\n",
       "      <th>siblings</th>\n",
       "      <th>bgfriend</th>\n",
       "      <th>clubs</th>\n",
       "      <th>skipped</th>\n",
       "      <th>alcohol</th>\n",
       "      <th>gradMI</th>\n",
       "      <th>fathcoll</th>\n",
       "      <th>mothcoll</th>\n",
       "    </tr>\n",
       "  </thead>\n",
       "  <tbody>\n",
       "    <tr>\n",
       "      <th>count</th>\n",
       "      <td>141.000000</td>\n",
       "      <td>141.000000</td>\n",
       "      <td>141.000000</td>\n",
       "      <td>141.000000</td>\n",
       "      <td>141.000000</td>\n",
       "      <td>141.000000</td>\n",
       "      <td>141.000000</td>\n",
       "      <td>141.000000</td>\n",
       "      <td>141.000000</td>\n",
       "      <td>141.000000</td>\n",
       "      <td>...</td>\n",
       "      <td>141.000000</td>\n",
       "      <td>141.000000</td>\n",
       "      <td>141.000000</td>\n",
       "      <td>141.000000</td>\n",
       "      <td>141.000000</td>\n",
       "      <td>141.000000</td>\n",
       "      <td>141.000000</td>\n",
       "      <td>141.00000</td>\n",
       "      <td>141.000000</td>\n",
       "      <td>141.000000</td>\n",
       "    </tr>\n",
       "    <tr>\n",
       "      <th>mean</th>\n",
       "      <td>20.886525</td>\n",
       "      <td>0.021277</td>\n",
       "      <td>0.382979</td>\n",
       "      <td>0.503546</td>\n",
       "      <td>0.092199</td>\n",
       "      <td>0.524823</td>\n",
       "      <td>0.170213</td>\n",
       "      <td>0.794326</td>\n",
       "      <td>0.035461</td>\n",
       "      <td>3.056738</td>\n",
       "      <td>...</td>\n",
       "      <td>0.319149</td>\n",
       "      <td>0.773050</td>\n",
       "      <td>0.936170</td>\n",
       "      <td>0.475177</td>\n",
       "      <td>0.602837</td>\n",
       "      <td>1.076241</td>\n",
       "      <td>1.901064</td>\n",
       "      <td>0.87234</td>\n",
       "      <td>0.588652</td>\n",
       "      <td>0.539007</td>\n",
       "    </tr>\n",
       "    <tr>\n",
       "      <th>std</th>\n",
       "      <td>1.271064</td>\n",
       "      <td>0.144819</td>\n",
       "      <td>0.487846</td>\n",
       "      <td>0.501770</td>\n",
       "      <td>0.290337</td>\n",
       "      <td>0.501164</td>\n",
       "      <td>0.377159</td>\n",
       "      <td>0.405634</td>\n",
       "      <td>0.185601</td>\n",
       "      <td>0.372310</td>\n",
       "      <td>...</td>\n",
       "      <td>0.467809</td>\n",
       "      <td>0.420353</td>\n",
       "      <td>0.245321</td>\n",
       "      <td>0.501164</td>\n",
       "      <td>0.491055</td>\n",
       "      <td>1.088882</td>\n",
       "      <td>1.374701</td>\n",
       "      <td>0.33490</td>\n",
       "      <td>0.493832</td>\n",
       "      <td>0.500253</td>\n",
       "    </tr>\n",
       "    <tr>\n",
       "      <th>min</th>\n",
       "      <td>19.000000</td>\n",
       "      <td>0.000000</td>\n",
       "      <td>0.000000</td>\n",
       "      <td>0.000000</td>\n",
       "      <td>0.000000</td>\n",
       "      <td>0.000000</td>\n",
       "      <td>0.000000</td>\n",
       "      <td>0.000000</td>\n",
       "      <td>0.000000</td>\n",
       "      <td>2.200000</td>\n",
       "      <td>...</td>\n",
       "      <td>0.000000</td>\n",
       "      <td>0.000000</td>\n",
       "      <td>0.000000</td>\n",
       "      <td>0.000000</td>\n",
       "      <td>0.000000</td>\n",
       "      <td>0.000000</td>\n",
       "      <td>0.000000</td>\n",
       "      <td>0.00000</td>\n",
       "      <td>0.000000</td>\n",
       "      <td>0.000000</td>\n",
       "    </tr>\n",
       "    <tr>\n",
       "      <th>25%</th>\n",
       "      <td>20.000000</td>\n",
       "      <td>0.000000</td>\n",
       "      <td>0.000000</td>\n",
       "      <td>0.000000</td>\n",
       "      <td>0.000000</td>\n",
       "      <td>0.000000</td>\n",
       "      <td>0.000000</td>\n",
       "      <td>1.000000</td>\n",
       "      <td>0.000000</td>\n",
       "      <td>2.800000</td>\n",
       "      <td>...</td>\n",
       "      <td>0.000000</td>\n",
       "      <td>1.000000</td>\n",
       "      <td>1.000000</td>\n",
       "      <td>0.000000</td>\n",
       "      <td>0.000000</td>\n",
       "      <td>0.000000</td>\n",
       "      <td>1.000000</td>\n",
       "      <td>1.00000</td>\n",
       "      <td>0.000000</td>\n",
       "      <td>0.000000</td>\n",
       "    </tr>\n",
       "    <tr>\n",
       "      <th>50%</th>\n",
       "      <td>21.000000</td>\n",
       "      <td>0.000000</td>\n",
       "      <td>0.000000</td>\n",
       "      <td>1.000000</td>\n",
       "      <td>0.000000</td>\n",
       "      <td>1.000000</td>\n",
       "      <td>0.000000</td>\n",
       "      <td>1.000000</td>\n",
       "      <td>0.000000</td>\n",
       "      <td>3.000000</td>\n",
       "      <td>...</td>\n",
       "      <td>0.000000</td>\n",
       "      <td>1.000000</td>\n",
       "      <td>1.000000</td>\n",
       "      <td>0.000000</td>\n",
       "      <td>1.000000</td>\n",
       "      <td>1.000000</td>\n",
       "      <td>2.000000</td>\n",
       "      <td>1.00000</td>\n",
       "      <td>1.000000</td>\n",
       "      <td>1.000000</td>\n",
       "    </tr>\n",
       "    <tr>\n",
       "      <th>75%</th>\n",
       "      <td>21.000000</td>\n",
       "      <td>0.000000</td>\n",
       "      <td>1.000000</td>\n",
       "      <td>1.000000</td>\n",
       "      <td>0.000000</td>\n",
       "      <td>1.000000</td>\n",
       "      <td>0.000000</td>\n",
       "      <td>1.000000</td>\n",
       "      <td>0.000000</td>\n",
       "      <td>3.300000</td>\n",
       "      <td>...</td>\n",
       "      <td>1.000000</td>\n",
       "      <td>1.000000</td>\n",
       "      <td>1.000000</td>\n",
       "      <td>1.000000</td>\n",
       "      <td>1.000000</td>\n",
       "      <td>2.000000</td>\n",
       "      <td>3.000000</td>\n",
       "      <td>1.00000</td>\n",
       "      <td>1.000000</td>\n",
       "      <td>1.000000</td>\n",
       "    </tr>\n",
       "    <tr>\n",
       "      <th>max</th>\n",
       "      <td>30.000000</td>\n",
       "      <td>1.000000</td>\n",
       "      <td>1.000000</td>\n",
       "      <td>1.000000</td>\n",
       "      <td>1.000000</td>\n",
       "      <td>1.000000</td>\n",
       "      <td>1.000000</td>\n",
       "      <td>1.000000</td>\n",
       "      <td>1.000000</td>\n",
       "      <td>4.000000</td>\n",
       "      <td>...</td>\n",
       "      <td>1.000000</td>\n",
       "      <td>1.000000</td>\n",
       "      <td>1.000000</td>\n",
       "      <td>1.000000</td>\n",
       "      <td>1.000000</td>\n",
       "      <td>5.000000</td>\n",
       "      <td>7.000000</td>\n",
       "      <td>1.00000</td>\n",
       "      <td>1.000000</td>\n",
       "      <td>1.000000</td>\n",
       "    </tr>\n",
       "  </tbody>\n",
       "</table>\n",
       "<p>8 rows × 29 columns</p>\n",
       "</div>"
      ],
      "text/plain": [
       "              age        soph      junior      senior     senior5        male  \\\n",
       "count  141.000000  141.000000  141.000000  141.000000  141.000000  141.000000   \n",
       "mean    20.886525    0.021277    0.382979    0.503546    0.092199    0.524823   \n",
       "std      1.271064    0.144819    0.487846    0.501770    0.290337    0.501164   \n",
       "min     19.000000    0.000000    0.000000    0.000000    0.000000    0.000000   \n",
       "25%     20.000000    0.000000    0.000000    0.000000    0.000000    0.000000   \n",
       "50%     21.000000    0.000000    0.000000    1.000000    0.000000    1.000000   \n",
       "75%     21.000000    0.000000    1.000000    1.000000    0.000000    1.000000   \n",
       "max     30.000000    1.000000    1.000000    1.000000    1.000000    1.000000   \n",
       "\n",
       "           campus    business    engineer      colGPA  ...       greek  \\\n",
       "count  141.000000  141.000000  141.000000  141.000000  ...  141.000000   \n",
       "mean     0.170213    0.794326    0.035461    3.056738  ...    0.319149   \n",
       "std      0.377159    0.405634    0.185601    0.372310  ...    0.467809   \n",
       "min      0.000000    0.000000    0.000000    2.200000  ...    0.000000   \n",
       "25%      0.000000    1.000000    0.000000    2.800000  ...    0.000000   \n",
       "50%      0.000000    1.000000    0.000000    3.000000  ...    0.000000   \n",
       "75%      0.000000    1.000000    0.000000    3.300000  ...    1.000000   \n",
       "max      1.000000    1.000000    1.000000    4.000000  ...    1.000000   \n",
       "\n",
       "              car    siblings    bgfriend       clubs     skipped     alcohol  \\\n",
       "count  141.000000  141.000000  141.000000  141.000000  141.000000  141.000000   \n",
       "mean     0.773050    0.936170    0.475177    0.602837    1.076241    1.901064   \n",
       "std      0.420353    0.245321    0.501164    0.491055    1.088882    1.374701   \n",
       "min      0.000000    0.000000    0.000000    0.000000    0.000000    0.000000   \n",
       "25%      1.000000    1.000000    0.000000    0.000000    0.000000    1.000000   \n",
       "50%      1.000000    1.000000    0.000000    1.000000    1.000000    2.000000   \n",
       "75%      1.000000    1.000000    1.000000    1.000000    2.000000    3.000000   \n",
       "max      1.000000    1.000000    1.000000    1.000000    5.000000    7.000000   \n",
       "\n",
       "          gradMI    fathcoll    mothcoll  \n",
       "count  141.00000  141.000000  141.000000  \n",
       "mean     0.87234    0.588652    0.539007  \n",
       "std      0.33490    0.493832    0.500253  \n",
       "min      0.00000    0.000000    0.000000  \n",
       "25%      1.00000    0.000000    0.000000  \n",
       "50%      1.00000    1.000000    1.000000  \n",
       "75%      1.00000    1.000000    1.000000  \n",
       "max      1.00000    1.000000    1.000000  \n",
       "\n",
       "[8 rows x 29 columns]"
      ]
     },
     "execution_count": 9,
     "metadata": {},
     "output_type": "execute_result"
    }
   ],
   "source": [
    "gpa1.describe()"
   ]
  },
  {
   "cell_type": "code",
   "execution_count": null,
   "id": "hawaiian-rates",
   "metadata": {},
   "outputs": [],
   "source": [
    "y = gpa1['colGPA']"
   ]
  },
  {
   "cell_type": "code",
   "execution_count": null,
   "id": "surface-insert",
   "metadata": {},
   "outputs": [],
   "source": []
  },
  {
   "cell_type": "code",
   "execution_count": 22,
   "id": "later-packet",
   "metadata": {},
   "outputs": [],
   "source": [
    "reg = smf.ols(formula='colGPA ~ hsGPA + ACT', data=gpa1)\n",
    "results = reg.fit()\n",
    "b = results.params"
   ]
  },
  {
   "cell_type": "code",
   "execution_count": 14,
   "id": "defensive-leader",
   "metadata": {},
   "outputs": [
    {
     "data": {
      "text/plain": [
       "Intercept    1.286328\n",
       "hsGPA        0.453456\n",
       "ACT          0.009426\n",
       "dtype: float64"
      ]
     },
     "execution_count": 14,
     "metadata": {},
     "output_type": "execute_result"
    }
   ],
   "source": [
    "results.params"
   ]
  },
  {
   "cell_type": "code",
   "execution_count": 15,
   "id": "absent-staff",
   "metadata": {},
   "outputs": [
    {
     "data": {
      "text/html": [
       "<table class=\"simpletable\">\n",
       "<caption>OLS Regression Results</caption>\n",
       "<tr>\n",
       "  <th>Dep. Variable:</th>         <td>colGPA</td>      <th>  R-squared:         </th> <td>   0.176</td>\n",
       "</tr>\n",
       "<tr>\n",
       "  <th>Model:</th>                   <td>OLS</td>       <th>  Adj. R-squared:    </th> <td>   0.164</td>\n",
       "</tr>\n",
       "<tr>\n",
       "  <th>Method:</th>             <td>Least Squares</td>  <th>  F-statistic:       </th> <td>   14.78</td>\n",
       "</tr>\n",
       "<tr>\n",
       "  <th>Date:</th>             <td>Thu, 25 Mar 2021</td> <th>  Prob (F-statistic):</th> <td>1.53e-06</td>\n",
       "</tr>\n",
       "<tr>\n",
       "  <th>Time:</th>                 <td>21:53:38</td>     <th>  Log-Likelihood:    </th> <td> -46.573</td>\n",
       "</tr>\n",
       "<tr>\n",
       "  <th>No. Observations:</th>      <td>   141</td>      <th>  AIC:               </th> <td>   99.15</td>\n",
       "</tr>\n",
       "<tr>\n",
       "  <th>Df Residuals:</th>          <td>   138</td>      <th>  BIC:               </th> <td>   108.0</td>\n",
       "</tr>\n",
       "<tr>\n",
       "  <th>Df Model:</th>              <td>     2</td>      <th>                     </th>     <td> </td>   \n",
       "</tr>\n",
       "<tr>\n",
       "  <th>Covariance Type:</th>      <td>nonrobust</td>    <th>                     </th>     <td> </td>   \n",
       "</tr>\n",
       "</table>\n",
       "<table class=\"simpletable\">\n",
       "<tr>\n",
       "      <td></td>         <th>coef</th>     <th>std err</th>      <th>t</th>      <th>P>|t|</th>  <th>[0.025</th>    <th>0.975]</th>  \n",
       "</tr>\n",
       "<tr>\n",
       "  <th>Intercept</th> <td>    1.2863</td> <td>    0.341</td> <td>    3.774</td> <td> 0.000</td> <td>    0.612</td> <td>    1.960</td>\n",
       "</tr>\n",
       "<tr>\n",
       "  <th>hsGPA</th>     <td>    0.4535</td> <td>    0.096</td> <td>    4.733</td> <td> 0.000</td> <td>    0.264</td> <td>    0.643</td>\n",
       "</tr>\n",
       "<tr>\n",
       "  <th>ACT</th>       <td>    0.0094</td> <td>    0.011</td> <td>    0.875</td> <td> 0.383</td> <td>   -0.012</td> <td>    0.031</td>\n",
       "</tr>\n",
       "</table>\n",
       "<table class=\"simpletable\">\n",
       "<tr>\n",
       "  <th>Omnibus:</th>       <td> 3.056</td> <th>  Durbin-Watson:     </th> <td>   1.885</td>\n",
       "</tr>\n",
       "<tr>\n",
       "  <th>Prob(Omnibus):</th> <td> 0.217</td> <th>  Jarque-Bera (JB):  </th> <td>   2.469</td>\n",
       "</tr>\n",
       "<tr>\n",
       "  <th>Skew:</th>          <td> 0.199</td> <th>  Prob(JB):          </th> <td>   0.291</td>\n",
       "</tr>\n",
       "<tr>\n",
       "  <th>Kurtosis:</th>      <td> 2.488</td> <th>  Cond. No.          </th> <td>    298.</td>\n",
       "</tr>\n",
       "</table><br/><br/>Notes:<br/>[1] Standard Errors assume that the covariance matrix of the errors is correctly specified."
      ],
      "text/plain": [
       "<class 'statsmodels.iolib.summary.Summary'>\n",
       "\"\"\"\n",
       "                            OLS Regression Results                            \n",
       "==============================================================================\n",
       "Dep. Variable:                 colGPA   R-squared:                       0.176\n",
       "Model:                            OLS   Adj. R-squared:                  0.164\n",
       "Method:                 Least Squares   F-statistic:                     14.78\n",
       "Date:                Thu, 25 Mar 2021   Prob (F-statistic):           1.53e-06\n",
       "Time:                        21:53:38   Log-Likelihood:                -46.573\n",
       "No. Observations:                 141   AIC:                             99.15\n",
       "Df Residuals:                     138   BIC:                             108.0\n",
       "Df Model:                           2                                         \n",
       "Covariance Type:            nonrobust                                         \n",
       "==============================================================================\n",
       "                 coef    std err          t      P>|t|      [0.025      0.975]\n",
       "------------------------------------------------------------------------------\n",
       "Intercept      1.2863      0.341      3.774      0.000       0.612       1.960\n",
       "hsGPA          0.4535      0.096      4.733      0.000       0.264       0.643\n",
       "ACT            0.0094      0.011      0.875      0.383      -0.012       0.031\n",
       "==============================================================================\n",
       "Omnibus:                        3.056   Durbin-Watson:                   1.885\n",
       "Prob(Omnibus):                  0.217   Jarque-Bera (JB):                2.469\n",
       "Skew:                           0.199   Prob(JB):                        0.291\n",
       "Kurtosis:                       2.488   Cond. No.                         298.\n",
       "==============================================================================\n",
       "\n",
       "Notes:\n",
       "[1] Standard Errors assume that the covariance matrix of the errors is correctly specified.\n",
       "\"\"\""
      ]
     },
     "execution_count": 15,
     "metadata": {},
     "output_type": "execute_result"
    }
   ],
   "source": [
    "results.summary()"
   ]
  },
  {
   "cell_type": "code",
   "execution_count": 18,
   "id": "corresponding-underwear",
   "metadata": {},
   "outputs": [
    {
     "data": {
      "text/plain": [
       "0.17642159703480653"
      ]
     },
     "execution_count": 18,
     "metadata": {},
     "output_type": "execute_result"
    }
   ],
   "source": [
    "results.rsquared"
   ]
  },
  {
   "cell_type": "code",
   "execution_count": null,
   "id": "allied-birthday",
   "metadata": {},
   "outputs": [],
   "source": []
  },
  {
   "cell_type": "code",
   "execution_count": null,
   "id": "rough-applicant",
   "metadata": {},
   "outputs": [],
   "source": [
    "# PAGE 107 - ols of log formula\n",
    "# PAGE 108 - ols matrix form"
   ]
  },
  {
   "cell_type": "code",
   "execution_count": 19,
   "id": "southeast-blend",
   "metadata": {},
   "outputs": [],
   "source": [
    "#Omitted Variable Bias\n",
    "#Relation between regressors\n",
    "\n",
    "reg_delta = smf.ols(formula='hsGPA ~ ACT', data=gpa1)\n",
    "results_delta = reg_delta.fit()\n",
    "delta_tilde = results_delta.params\n"
   ]
  },
  {
   "cell_type": "code",
   "execution_count": 20,
   "id": "corresponding-rugby",
   "metadata": {},
   "outputs": [
    {
     "data": {
      "text/plain": [
       "Intercept    2.462537\n",
       "ACT          0.038897\n",
       "dtype: float64"
      ]
     },
     "execution_count": 20,
     "metadata": {},
     "output_type": "execute_result"
    }
   ],
   "source": [
    "delta_tilde"
   ]
  },
  {
   "cell_type": "code",
   "execution_count": 23,
   "id": "sixth-syria",
   "metadata": {},
   "outputs": [
    {
     "data": {
      "text/plain": [
       "0.027063973943178537"
      ]
     },
     "execution_count": 23,
     "metadata": {},
     "output_type": "execute_result"
    }
   ],
   "source": [
    "#Omitted Variables Formula for b1_tilde\n",
    "b1_tilde = b['ACT'] + b['hsGPA'] * delta_tilde['ACT']\n",
    "b1_tilde"
   ]
  },
  {
   "cell_type": "code",
   "execution_count": 24,
   "id": "labeled-graham",
   "metadata": {},
   "outputs": [],
   "source": [
    "#Actual regression with hsGPA omitted:\n",
    "reg_om = smf.ols(formula='colGPA ~ ACT', data=gpa1)\n",
    "results_om = reg_om.fit()\n",
    "b_om = results_om.params"
   ]
  },
  {
   "cell_type": "code",
   "execution_count": 25,
   "id": "living-start",
   "metadata": {},
   "outputs": [
    {
     "data": {
      "text/plain": [
       "Intercept    2.402979\n",
       "ACT          0.027064\n",
       "dtype: float64"
      ]
     },
     "execution_count": 25,
     "metadata": {},
     "output_type": "execute_result"
    }
   ],
   "source": [
    "b_om"
   ]
  },
  {
   "cell_type": "code",
   "execution_count": null,
   "id": "inside-omega",
   "metadata": {},
   "outputs": [],
   "source": []
  },
  {
   "cell_type": "code",
   "execution_count": null,
   "id": "seven-chess",
   "metadata": {},
   "outputs": [],
   "source": [
    "#PAGE 113 \n",
    "#FULL ESTIMATION RESULTS INCLUDING AUTOMATIC SE:\n",
    "fullreg = smf.ols(formula='colGPA ~ hsGPA + ACT', data=gpa1)\n",
    "fullresults = fullreg.fit()\n"
   ]
  },
  {
   "cell_type": "code",
   "execution_count": null,
   "id": "explicit-lender",
   "metadata": {},
   "outputs": [],
   "source": [
    "#EXTRACT SER(instead of calculation via residuals)\n",
    "SER = np.sqrt(results.mse_resid)"
   ]
  },
  {
   "cell_type": "code",
   "execution_count": null,
   "id": "flush-thinking",
   "metadata": {},
   "outputs": [],
   "source": [
    "#regressing hsGPA on ACT for calculation of R2 & VIF\n",
    "fullreg_hsGPA = smf.ols(formula = 'hsGPA ~ ACT', data=gpa1)\n",
    "fullresults_hsGPA = fullreg_hsGPA.fit()\n",
    "R2_hsGPA = results_hsGPA.rsquared\n",
    "VIF_hsGPA = 1 / (1 - R2_hsGPA)"
   ]
  },
  {
   "cell_type": "code",
   "execution_count": null,
   "id": "hollow-convergence",
   "metadata": {},
   "outputs": [],
   "source": [
    "#manual calculation of SE of hsGPA coefficient\n",
    "n = results.nobs\n",
    "sdx = np.std(gpa1['hsGPA'], ddof=1) * np.sqrt((n-1)/n)\n",
    "SE_hsGPA = 1 / np.sqrt(n) * SER / sdx * np.sqrt(VIF_hsGPA)"
   ]
  },
  {
   "cell_type": "code",
   "execution_count": 1,
   "id": "dedicated-activity",
   "metadata": {},
   "outputs": [],
   "source": [
    "\n",
    "import patsy as pt\n",
    "import statsmodels.stats.outliers_influence as smo\n",
    "\n",
    "    "
   ]
  },
  {
   "cell_type": "code",
   "execution_count": 2,
   "id": "attached-supervisor",
   "metadata": {},
   "outputs": [
    {
     "ename": "NameError",
     "evalue": "name 'wage1' is not defined",
     "output_type": "error",
     "traceback": [
      "\u001b[1;31m---------------------------------------------------------------------------\u001b[0m",
      "\u001b[1;31mNameError\u001b[0m                                 Traceback (most recent call last)",
      "\u001b[1;32m<ipython-input-2-925d23a86c8c>\u001b[0m in \u001b[0;36m<module>\u001b[1;34m\u001b[0m\n\u001b[0;32m      1\u001b[0m \u001b[1;31m#extract matrices using patsy:\u001b[0m\u001b[1;33m\u001b[0m\u001b[1;33m\u001b[0m\u001b[1;33m\u001b[0m\u001b[0m\n\u001b[1;32m----> 2\u001b[1;33m \u001b[0my\u001b[0m\u001b[1;33m,\u001b[0m \u001b[0mX\u001b[0m \u001b[1;33m=\u001b[0m \u001b[0mpt\u001b[0m\u001b[1;33m.\u001b[0m\u001b[0mdmatrices\u001b[0m \u001b[1;33m(\u001b[0m\u001b[1;34m'np.log(wage) ~ educ + exper + tenure'\u001b[0m\u001b[1;33m,\u001b[0m \u001b[0mdata\u001b[0m\u001b[1;33m=\u001b[0m\u001b[0mwage1\u001b[0m\u001b[1;33m,\u001b[0m \u001b[0mreturn_type\u001b[0m\u001b[1;33m=\u001b[0m\u001b[1;34m'dataframe'\u001b[0m\u001b[1;33m)\u001b[0m\u001b[1;33m\u001b[0m\u001b[1;33m\u001b[0m\u001b[0m\n\u001b[0m",
      "\u001b[1;31mNameError\u001b[0m: name 'wage1' is not defined"
     ]
    }
   ],
   "source": [
    "#extract matrices using patsy:\n",
    "y, X = pt.dmatrices ('np.log(wage) ~ educ + exper + tenure', data=wage1, return_type='dataframe')"
   ]
  },
  {
   "cell_type": "code",
   "execution_count": null,
   "id": "impressive-horizon",
   "metadata": {},
   "outputs": [],
   "source": [
    "#get VIF:\n",
    "K = X.shape[1]\n",
    "VIF = np.empty(K)\n",
    "for i in range(K):\n",
    "    VIF[i] = smo.variance_inflation_factor(X.values, i)"
   ]
  }
 ],
 "metadata": {
  "kernelspec": {
   "display_name": "Python 3",
   "language": "python",
   "name": "python3"
  },
  "language_info": {
   "codemirror_mode": {
    "name": "ipython",
    "version": 3
   },
   "file_extension": ".py",
   "mimetype": "text/x-python",
   "name": "python",
   "nbconvert_exporter": "python",
   "pygments_lexer": "ipython3",
   "version": "3.7.4"
  }
 },
 "nbformat": 4,
 "nbformat_minor": 5
}
